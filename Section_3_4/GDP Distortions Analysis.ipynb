{
 "cells": [
  {
   "cell_type": "code",
   "execution_count": 1,
   "metadata": {},
   "outputs": [
    {
     "name": "stderr",
     "output_type": "stream",
     "text": [
      "/u/nlp/anaconda/main/anaconda3/envs/katezhou/lib/python3.8/site-packages/statsmodels/compat/pandas.py:65: FutureWarning: pandas.Int64Index is deprecated and will be removed from pandas in a future version. Use pandas.Index with the appropriate dtype instead.\n",
      "  from pandas import Int64Index as NumericIndex\n"
     ]
    }
   ],
   "source": [
    "import pandas as pd\n",
    "import miniball\n",
    "import matplotlib.pyplot as plt\n",
    "import math\n",
    "import random\n",
    "import numpy as np\n",
    "\n",
    "\n",
    "\n",
    "from sklearn.metrics import classification_report, confusion_matrix\n",
    "# import faiss\n",
    "\n",
    "from sklearn.preprocessing import StandardScaler\n",
    "import statsmodels.api as sm\n",
    "from scipy import stats\n",
    "\n",
    "import permutation_test as p"
   ]
  },
  {
   "cell_type": "markdown",
   "metadata": {},
   "source": [
    "# Section 3: Rich Countries Have Tokens"
   ]
  },
  {
   "cell_type": "code",
   "execution_count": 2,
   "metadata": {},
   "outputs": [],
   "source": [
    "countries_data = pd.read_csv(\"country_metadata/un_countries_meta.csv\")\n",
    "countries_data['name'] = countries_data['Name'].apply(lambda x: x.lower())"
   ]
  },
  {
   "cell_type": "code",
   "execution_count": 3,
   "metadata": {},
   "outputs": [
    {
     "name": "stdout",
     "output_type": "stream",
     "text": [
      "Number of multiword countries 34\n",
      "Number of single word countries 159\n",
      "Number of in-vocabulary countries 134\n"
     ]
    }
   ],
   "source": [
    "print(\"Number of multiword countries\", len(countries_data[countries_data['Name'].str.contains(\" \")]))\n",
    "print(\"Number of single word countries\", len(countries_data[~countries_data['Name'].str.contains(\" \")]))\n",
    "print(\"Number of in-vocabulary countries\", len(countries_data[countries_data['subpieces']==1]))\n"
   ]
  },
  {
   "cell_type": "code",
   "execution_count": 4,
   "metadata": {},
   "outputs": [
    {
     "ename": "NameError",
     "evalue": "name 'BertTokenizer' is not defined",
     "output_type": "error",
     "traceback": [
      "\u001b[0;31m---------------------------------------------------------------------------\u001b[0m",
      "\u001b[0;31mNameError\u001b[0m                                 Traceback (most recent call last)",
      "Input \u001b[0;32mIn [4]\u001b[0m, in \u001b[0;36m<module>\u001b[0;34m\u001b[0m\n\u001b[1;32m      1\u001b[0m \u001b[38;5;66;03m#Get an example of subpiece tokenization\u001b[39;00m\n\u001b[0;32m----> 2\u001b[0m tokenizer \u001b[38;5;241m=\u001b[39m \u001b[43mBertTokenizer\u001b[49m\u001b[38;5;241m.\u001b[39mfrom_pretrained(\u001b[38;5;124m'\u001b[39m\u001b[38;5;124mbert-base-cased\u001b[39m\u001b[38;5;124m'\u001b[39m)\n\u001b[1;32m      3\u001b[0m tokenizer(\u001b[38;5;124m\"\u001b[39m\u001b[38;5;124mAndorra\u001b[39m\u001b[38;5;124m\"\u001b[39m)\n",
      "\u001b[0;31mNameError\u001b[0m: name 'BertTokenizer' is not defined"
     ]
    }
   ],
   "source": [
    "#Get an example of subpiece tokenization\n",
    "tokenizer = BertTokenizer.from_pretrained('bert-base-cased')\n",
    "tokenizer(\"Andorra\")"
   ]
  },
  {
   "cell_type": "code",
   "execution_count": null,
   "metadata": {},
   "outputs": [],
   "source": [
    "#gather examples of names by subpieces\n",
    "display(countries_data[countries_data['subpieces'] < 4].groupby('subpieces').mean())\n",
    "display(countries_data[countries_data['subpieces'] >= 4].mean(axis=0))"
   ]
  },
  {
   "cell_type": "code",
   "execution_count": null,
   "metadata": {},
   "outputs": [],
   "source": [
    "countries_data[countries_data['Name'].isin(set(['Uzbekistan', 'Comoros', 'Grenada', 'Eswatini']))]\n"
   ]
  },
  {
   "cell_type": "code",
   "execution_count": null,
   "metadata": {},
   "outputs": [],
   "source": [
    "for features in [['freq_logged']]:\n",
    "    Y = countries_data[['subpieces']].values\n",
    "    X = countries_data[features].values\n",
    "    X = sm.add_constant(X)\n",
    "    model = sm.OLS(Y,X)\n",
    "    results = model.fit()\n",
    "    print(results.summary(xname=['Constant'] + features, yname='Radius'))"
   ]
  },
  {
   "cell_type": "code",
   "execution_count": null,
   "metadata": {},
   "outputs": [],
   "source": [
    "#calculate correlation between frequency and gdp\n",
    "stats.pearsonr(x=countries_data['freq'].values, y=countries_data['gdp'].values)"
   ]
  },
  {
   "cell_type": "markdown",
   "metadata": {},
   "source": [
    "# Geometric Impact"
   ]
  },
  {
   "cell_type": "code",
   "execution_count": null,
   "metadata": {},
   "outputs": [],
   "source": [
    "def process_embeddings(word_embeddings):\n",
    "    word_embeddings = word_embeddings.reset_index()\n",
    "    #getting rid sentence embeddings\n",
    "    word_embeddings = word_embeddings[list(range(0, 768)) + [1537, 1538]]\n",
    "    #lower casing names\n",
    "    word_embeddings[1537] = word_embeddings[1537].apply(lambda x: x.lower())\n",
    "    word_embeddings['tokens'] = word_embeddings[1538]\n",
    "    return word_embeddings"
   ]
  },
  {
   "cell_type": "code",
   "execution_count": null,
   "metadata": {},
   "outputs": [],
   "source": [
    "#read in embeddings data\n",
    "first_embeddings = process_embeddings(pd.read_csv(\"embeddings/country_names_first_embeddings.csv\", header=None))\n",
    "average_embeddings = process_embeddings(pd.read_csv(\"embeddings/country_names_average_embeddings.csv\", header=None))\n",
    "\n"
   ]
  },
  {
   "cell_type": "code",
   "execution_count": null,
   "metadata": {},
   "outputs": [],
   "source": [
    "def calculate_norms(word_embeddings):\n",
    "    word_embeddings['norm'] = np.sqrt(np.square(word_embeddings[range(0, 768)]).sum(axis=1))\n",
    "    word_embeddings = word_embeddings.groupby(1537).mean()\n",
    "    word_embeddings = word_embeddings.reset_index()\n",
    "\n",
    "    word_embeddings = word_embeddings.set_index(1537).join(countries_data.set_index('name'), how='inner')\n",
    "\n",
    "    Y = word_embeddings[['norm']].values\n",
    "    X = word_embeddings[['subpieces']].values\n",
    "\n",
    "    plt.figure(figsize=(6, 3))\n",
    "    plt.scatter(X,Y,s=10,color=\"#377eb8\")\n",
    "    plt.xlabel(\"# of Subwords\", fontsize=20)\n",
    "    plt.ylabel(\"Norm of Vector\", fontsize=20)\n",
    "    plt.xticks(fontsize=20)\n",
    "    plt.yticks(fontsize=20)\n",
    "    plt.title(\"# of Subwords vs norm\",fontsize=20)\n",
    "    plt.savefig(\"figures/norm_vs_subpieces_first.pdf\", bbox_inches='tight', dpi=600)\n",
    "    print(word_embeddings[['norm','subpieces']].corr(\"pearson\"))\n",
    "\n",
    "\n",
    "calculate_norms(first_embeddings)\n",
    "calculate_norms(average_embeddings)"
   ]
  },
  {
   "cell_type": "markdown",
   "metadata": {},
   "source": [
    "# Richer countries are most distinct in embedding space"
   ]
  },
  {
   "cell_type": "code",
   "execution_count": 6,
   "metadata": {},
   "outputs": [
    {
     "ename": "ModuleNotFoundError",
     "evalue": "No module named 'numba'",
     "output_type": "error",
     "traceback": [
      "\u001b[0;31m---------------------------------------------------------------------------\u001b[0m",
      "\u001b[0;31mModuleNotFoundError\u001b[0m                       Traceback (most recent call last)",
      "Input \u001b[0;32mIn [6]\u001b[0m, in \u001b[0;36m<module>\u001b[0;34m\u001b[0m\n\u001b[0;32m----> 1\u001b[0m \u001b[38;5;28;01mfrom\u001b[39;00m \u001b[38;5;21;01mfastdist\u001b[39;00m \u001b[38;5;28;01mimport\u001b[39;00m fastdist\n\u001b[1;32m      2\u001b[0m \u001b[38;5;28;01mdef\u001b[39;00m \u001b[38;5;21mcalculate_cosine_similarity\u001b[39m(word_embeddings, keyword_index\u001b[38;5;241m=\u001b[39m\u001b[38;5;241m1537\u001b[39m):\n\u001b[1;32m      3\u001b[0m     result \u001b[38;5;241m=\u001b[39m pd\u001b[38;5;241m.\u001b[39mDataFrame()\n",
      "File \u001b[0;32m/u/nlp/anaconda/main/anaconda3/envs/katezhou/lib/python3.8/site-packages/fastdist/fastdist.py:1\u001b[0m, in \u001b[0;36m<module>\u001b[0;34m\u001b[0m\n\u001b[0;32m----> 1\u001b[0m \u001b[38;5;28;01mfrom\u001b[39;00m \u001b[38;5;21;01mnumba\u001b[39;00m \u001b[38;5;28;01mimport\u001b[39;00m jit\n\u001b[1;32m      2\u001b[0m \u001b[38;5;28;01mimport\u001b[39;00m \u001b[38;5;21;01mnumpy\u001b[39;00m \u001b[38;5;28;01mas\u001b[39;00m \u001b[38;5;21;01mnp\u001b[39;00m\n\u001b[1;32m      3\u001b[0m \u001b[38;5;28;01mimport\u001b[39;00m \u001b[38;5;21;01mmath\u001b[39;00m\n",
      "\u001b[0;31mModuleNotFoundError\u001b[0m: No module named 'numba'"
     ]
    }
   ],
   "source": [
    "from fastdist import fastdist\n",
    "def calculate_cosine_similarity(word_embeddings, keyword_index=1537):\n",
    "    result = pd.DataFrame()\n",
    "    for n, row_n in word_embeddings.iterrows():\n",
    "        temp = []\n",
    "        temp.append(row_n[keyword_index])\n",
    "        current_row = row_n[:768]\n",
    "        for m, row_m in word_embeddings.iterrows():\n",
    "            if(n == m):\n",
    "                temp.append(0)\n",
    "                continue\n",
    "                #just itself\n",
    "            other_row = row_m[:768]\n",
    "            similarity = fastdist.cosine(list(np.array(current_row)), list(np.array(other_row)))\n",
    "            temp.append(similarity)\n",
    "        print(n)\n",
    "        result = result.append([temp])\n",
    "#         print(row_n[768])\n",
    "    result.columns = ['Name'] + list(word_embeddings[keyword_index].values)\n",
    "    return result"
   ]
  },
  {
   "cell_type": "code",
   "execution_count": null,
   "metadata": {},
   "outputs": [],
   "source": [
    "def calculate_cosine_similarity_helper(word_embeddings, output_filename):\n",
    "    for x in range(0, 10):\n",
    "        print(x)\n",
    "        cosine_sample = word_embeddings.groupby(1537).apply(lambda x: x.sample(n=1)).reset_index(drop=True)\n",
    "        cosine_result = calculate_cosine_similarity(cosine_sample)\n",
    "        cosine_result.to_csv(\"cosine_results/\" + output_filename + str(x) + \".csv\")"
   ]
  },
  {
   "cell_type": "code",
   "execution_count": null,
   "metadata": {},
   "outputs": [],
   "source": [
    "#These results can be found in the folder \"cosine_results\"\n",
    "\n",
    "# calculate_cosine_similarity_helper(first_embeddings, 'cosine_result')\n",
    "# calculate_cosine_similarity_helper(average_embeddings, 'cosine_result_average')"
   ]
  },
  {
   "cell_type": "code",
   "execution_count": 7,
   "metadata": {},
   "outputs": [],
   "source": [
    "def calculate_ingroup_similarity_frequency(df):\n",
    "\n",
    "    ingroup_sample = df.copy()\n",
    "    ingroup_sample = ingroup_sample.set_index('Name').join(countries_data.set_index(\"name\"), how='outer')\n",
    "\n",
    "    #Calculate similarity for in-vocabularly words\n",
    "    ingroup_sample = ingroup_sample[ingroup_sample['subpieces']==1]\n",
    "    #Calculate Frequency\n",
    "    ingroup_sample['freq_quantile'] = pd.qcut(ingroup_sample['freq_logged'], q=10, precision=3)\n",
    "    intervals = list(ingroup_sample['freq_quantile'].unique().categories.left) + list(ingroup_sample['freq_quantile'].unique().categories.right)[-1:]\n",
    "\n",
    "    #Take the most frequent and least frequent categores\n",
    "    most_frequent = ingroup_sample[ingroup_sample['freq_logged'] <= intervals[1]]\n",
    "    least_frequent = ingroup_sample[ingroup_sample['freq_logged'] >= intervals[-2]]\n",
    "    \n",
    "    #Mean of upper triangle\n",
    "    most_frequent = most_frequent.where(np.triu(np.ones(most_frequent.shape)).astype(bool))\n",
    "    most_frequent = most_frequent[list(most_frequent.index)]\n",
    "    most_frequent = most_frequent.mean(axis=1).mean()\n",
    "\n",
    "    least_frequent = least_frequent.where(np.triu(np.ones(least_frequent.shape)).astype(bool))\n",
    "    least_frequent = least_frequent[list(least_frequent.index)]\n",
    "    least_frequent = least_frequent.mean(axis=1).mean()\n",
    "    return most_frequent, least_frequent"
   ]
  },
  {
   "cell_type": "code",
   "execution_count": 8,
   "metadata": {
    "scrolled": false
   },
   "outputs": [
    {
     "name": "stdout",
     "output_type": "stream",
     "text": [
      "0.61043441567908 0.5824171253909559\n"
     ]
    }
   ],
   "source": [
    "cosine_result = pd.DataFrame()\n",
    "most_frequent_in_group_similarity = []\n",
    "least_frequent_in_group_similarity = []\n",
    "\n",
    "for x in range(0, 10):\n",
    "    temp = pd.read_csv(\"cosine_results/cosine_result_average\" + str(x) + \".csv\")\n",
    "    most_frequent, least_frequent = calculate_ingroup_similarity_frequency(temp)\n",
    "    most_frequent_in_group_similarity.append(most_frequent)\n",
    "    least_frequent_in_group_similarity.append(least_frequent)\n",
    "    cosine_result = pd.concat([cosine_result, temp.drop('Name', axis=1)], axis=1)\n",
    "    \n",
    "cosine_result['Name'] = temp['Name']\n",
    "cosine_result = cosine_result.drop(\"Unnamed: 0\", axis=1)\n",
    "cosine_result = cosine_result.replace(0, bool(\"nan\"))\n",
    "\n",
    "cosine_result['avg'] = cosine_result[cosine_result.columns[0:-1]].mean(axis=1)\n",
    "\n",
    "cosine_result = cosine_result.set_index('Name').join(countries_data.set_index(\"name\"), how='outer')\n",
    "cosine_result = cosine_result.dropna(subset=['gdp'])\n",
    "\n",
    "cosine_result['freq_quantile'] = pd.qcut(cosine_result['freq_logged'], q=10, precision=3)\n",
    "cosine_result['gdp_quantile'] = pd.qcut(cosine_result['gdp_logged'], q=10, precision=3)\n",
    "\n",
    "print(np.array(most_frequent_in_group_similarity).mean(), np.array(least_frequent_in_group_similarity).mean())"
   ]
  },
  {
   "cell_type": "code",
   "execution_count": 9,
   "metadata": {},
   "outputs": [
    {
     "name": "stdout",
     "output_type": "stream",
     "text": [
      "taking random subsample of size 20000 from 184756 possible permutations\n",
      "nr of mean diffs: 20000\n",
      "\n",
      "\n",
      " Distribution of mean differences\n",
      "                                       │                                        \n",
      "                                     * ┼+33.489                                 \n",
      "                                  * * ****                                      \n",
      "                                *      │  *                                     \n",
      "                                 *     │   ** *                                 \n",
      "                               *       │       *                                \n",
      "                              *        │        *                               \n",
      "                            **         │         **                             \n",
      "                                       │                                        \n",
      "                         * *           │           **                           \n",
      "                        *              │                                        \n",
      "                       *               │             *                          \n",
      "                      *                │              *                         \n",
      "                     *                 │                **                      \n",
      "                    *                  │                  *                     \n",
      "                  **                   │                   **                   \n",
      "               * *                     │                     ***                \n",
      "          *****                        ┼+0.71                    ****           \n",
      "───*┼**─**─────────────────────────────┼─────────────────────────────*****─*┼───\n",
      "     -0.038                            │                               +0.04    \n",
      "mean difference of tested dataset: 0.028017290288124053\n",
      "p_value: 0.005249999999998312\n",
      "p_lower_than (probability that mean of test data is not lower than mean of ref data): 0.9964500000000016\n",
      "p_value_greater_than (probability that mean of test data is not greater than mean of ref data): 0.005249999999998312\n"
     ]
    },
    {
     "name": "stderr",
     "output_type": "stream",
     "text": [
      "/u/nlp/anaconda/main/anaconda3/envs/katezhou/lib/python3.8/site-packages/permutation_test/functions.py:240: VisibleDeprecationWarning: Passing `normed=True` on non-uniform bins has always been broken, and computes neither the probability density function nor the probability mass function. The result is only correct if the bins are uniform, when density=True will produce the same result anyway. The argument will be removed in a future version of numpy.\n",
      "  freq, bin_edges = np.histogram(data\\\n"
     ]
    },
    {
     "data": {
      "text/plain": [
       "0.005249999999998312"
      ]
     },
     "execution_count": 9,
     "metadata": {},
     "output_type": "execute_result"
    }
   ],
   "source": [
    "p.permutationtest(most_frequent_in_group_similarity, least_frequent_in_group_similarity)"
   ]
  },
  {
   "cell_type": "code",
   "execution_count": 10,
   "metadata": {},
   "outputs": [
    {
     "name": "stdout",
     "output_type": "stream",
     "text": [
      "                            OLS Regression Results                            \n",
      "==============================================================================\n",
      "Dep. Variable:                 Radius   R-squared:                       0.084\n",
      "Model:                            OLS   Adj. R-squared:                  0.077\n",
      "Method:                 Least Squares   F-statistic:                     12.13\n",
      "Date:                Mon, 09 May 2022   Prob (F-statistic):           0.000675\n",
      "Time:                        11:05:39   Log-Likelihood:                 330.73\n",
      "No. Observations:                 134   AIC:                            -657.5\n",
      "Df Residuals:                     132   BIC:                            -651.7\n",
      "Df Model:                           1                                         \n",
      "Covariance Type:            nonrobust                                         \n",
      "===============================================================================\n",
      "                  coef    std err          t      P>|t|      [0.025      0.975]\n",
      "-------------------------------------------------------------------------------\n",
      "Constant        0.6989      0.019     37.386      0.000       0.662       0.736\n",
      "freq_logged    -0.0061      0.002     -3.482      0.001      -0.010      -0.003\n",
      "==============================================================================\n",
      "Omnibus:                        8.544   Durbin-Watson:                   1.999\n",
      "Prob(Omnibus):                  0.014   Jarque-Bera (JB):                8.475\n",
      "Skew:                          -0.605   Prob(JB):                       0.0144\n",
      "Kurtosis:                       3.236   Cond. No.                         113.\n",
      "==============================================================================\n",
      "\n",
      "Notes:\n",
      "[1] Standard Errors assume that the covariance matrix of the errors is correctly specified.\n"
     ]
    }
   ],
   "source": [
    "#OLS for similarity and countries\n",
    "temp = cosine_result[cosine_result['subpieces']==1]\n",
    "\n",
    "for features in [['freq_logged']]:\n",
    "    Y = temp[['avg']].values\n",
    "    X = temp[features].values\n",
    "    X = sm.add_constant(X)\n",
    "    model = sm.OLS(Y,X)\n",
    "    results = model.fit()\n",
    "    print(results.summary(xname=['Constant'] + features, yname='Radius'))\n",
    "\n",
    "    "
   ]
  },
  {
   "cell_type": "code",
   "execution_count": 11,
   "metadata": {},
   "outputs": [
    {
     "name": "stdout",
     "output_type": "stream",
     "text": [
      "Number of countries with over a 0.7 similarity with 'France'(averaged over 10 trials):  21.2\n",
      "Number of countries with over a 0.7 similarity with 'Haiti'(averaged over 10 trials):  59.3\n"
     ]
    }
   ],
   "source": [
    "print(\"Number of countries with over a 0.7 similarity with 'France'(averaged over 10 trials): \", (cosine_result[['france']] >= 0.7).sum().sum()/10)\n",
    "print(\"Number of countries with over a 0.7 similarity with 'Haiti'(averaged over 10 trials): \", (cosine_result[['haiti']] >= 0.7).sum().sum()/10)\n"
   ]
  },
  {
   "cell_type": "code",
   "execution_count": 12,
   "metadata": {},
   "outputs": [
    {
     "name": "stderr",
     "output_type": "stream",
     "text": [
      "/tmp/ipykernel_4139576/2910881878.py:7: SettingWithCopyWarning: \n",
      "A value is trying to be set on a copy of a slice from a DataFrame.\n",
      "Try using .loc[row_indexer,col_indexer] = value instead\n",
      "\n",
      "See the caveats in the documentation: https://pandas.pydata.org/pandas-docs/stable/user_guide/indexing.html#returning-a-view-versus-a-copy\n",
      "  temp['in_vocabulary'] = temp['Name'].apply(lambda x: 1 if (x in ['Germany', \"Botswana\"]) else 0)\n"
     ]
    },
    {
     "name": "stdout",
     "output_type": "stream",
     "text": [
      "                avg  gdp_logged\n",
      "avg         1.00000    -0.28164\n",
      "gdp_logged -0.28164     1.00000\n"
     ]
    },
    {
     "data": {
      "text/plain": [
       "<Figure size 720x360 with 0 Axes>"
      ]
     },
     "metadata": {},
     "output_type": "display_data"
    },
    {
     "data": {
      "image/png": "[encoded data removed]",
      "text/plain": [
       "<Figure size 432x216 with 1 Axes>"
      ]
     },
     "metadata": {
      "needs_background": "light"
     },
     "output_type": "display_data"
    }
   ],
   "source": [
    "#Visualize Cosine Similarity Results\n",
    "temp = cosine_result[cosine_result['subpieces']==1]\n",
    "X = temp[['gdp_logged']].values\n",
    "Y = temp[['avg']].values\n",
    "\n",
    "plt.figure(figsize=(10, 5))\n",
    "temp['in_vocabulary'] = temp['Name'].apply(lambda x: 1 if (x in ['Germany', \"Botswana\"]) else 0)\n",
    "categories = np.array(temp['in_vocabulary'].values)\n",
    "\n",
    "colormap = np.array(['#377eb8', '#ff7f00'])\n",
    "\n",
    "plt.figure(figsize=(6, 3))\n",
    "plt.scatter(X,Y, s=15, c=colormap[categories])\n",
    "\n",
    "from numpy.polynomial.polynomial import polyfit\n",
    "# # Fit with polyfit\n",
    "b, m = polyfit(list(temp['gdp_logged'].values), list(temp['avg'].values), 1)\n",
    "# plt.plot(list(temp['gdp_logged'].values), b + m * temp['gdp_logged'].values, '-')\n",
    "\n",
    "plt.xlabel(\"Gross Domestic Product (Logged)\", fontsize=20)\n",
    "plt.ylabel(\"Cosine Similarity\", fontsize=20)\n",
    "plt.xticks(fontsize=20)\n",
    "plt.yticks(fontsize=20, label=0.4)\n",
    "\n",
    "n = list(temp['Name'].values)\n",
    "\n",
    "\n",
    "for i, txt in enumerate(n):\n",
    "    if (txt in set(['Germany', \"Botswana\"])):\n",
    "        if (txt=='Germany'):\n",
    "            plt.annotate(txt, (X[i]-.3, Y[i]), fontsize=20, ha='right', bbox=dict(facecolor='1', edgecolor='.1', pad=2.0))\n",
    "        else:\n",
    "            plt.annotate(txt, (X[i]+.2, Y[i]), fontsize=20, ha='left', bbox=dict(facecolor='1', edgecolor='.1', pad=2.0))\n",
    "\n",
    "plt.savefig(\"figures/gdp_cosine.pdf\", bbox_inches='tight', dpi=600)\n",
    "print(temp[['avg', 'gdp_logged']].corr(\"pearson\"))\n"
   ]
  },
  {
   "cell_type": "code",
   "execution_count": 13,
   "metadata": {},
   "outputs": [
    {
     "data": {
      "image/png": "[encoded data removed]",
      "text/plain": [
       "<Figure size 432x288 with 1 Axes>"
      ]
     },
     "metadata": {
      "needs_background": "light"
     },
     "output_type": "display_data"
    }
   ],
   "source": [
    "import seaborn as sns\n",
    "ax = sns.regplot(x=temp['gdp_logged'], y=temp['avg'], data=temp)"
   ]
  },
  {
   "cell_type": "markdown",
   "metadata": {},
   "source": [
    "# Artificial Context"
   ]
  },
  {
   "cell_type": "code",
   "execution_count": null,
   "metadata": {},
   "outputs": [],
   "source": [
    "# # Cosine similarity artificial context\n",
    "# for x in range(0, 20):\n",
    "#     print(x)\n",
    "#     cosine_sample = a_embeddings[a_embeddings[1536]==x]\n",
    "#     cosine_result = calculate_cosine_similarity(cosine_sample)\n",
    "#     cosine_result.to_csv(\"cosine_results/artificial_context_average_embeddings_\" + str(x) + \".csv\")\n"
   ]
  },
  {
   "cell_type": "code",
   "execution_count": 35,
   "metadata": {},
   "outputs": [],
   "source": [
    "cosine_result = pd.DataFrame()\n",
    "for x in range(10, 20):\n",
    "    temp = pd.read_csv(\"cosine_results/artificial_context_average_embeddings_\" + str(x) + \".csv\")\n",
    "    cosine_result = pd.concat([cosine_result, temp.drop('Name', axis=1)], axis=1)\n",
    "    \n",
    "cosine_result.columns = [x.lower() for x in cosine_result.columns]\n",
    "cosine_result['Name'] = [x.lower() for x in temp['Name']]\n",
    "cosine_result = cosine_result.drop(\"unnamed: 0\", axis=1)\n",
    "cosine_result = cosine_result.replace(0, np.NaN)\n",
    "\n",
    "cosine_result['avg'] = cosine_result[cosine_result.columns[0:-1]].mean(axis=1)\n",
    "\n",
    "cosine_result = cosine_result.set_index('Name').join(countries_data.set_index(\"name\"), how='outer')\n",
    "cosine_result = cosine_result.dropna(subset=['gdp'])\n",
    "\n",
    "cosine_result['freq_quantile'] = pd.qcut(cosine_result['freq_logged'], q=10, precision=3)\n",
    "cosine_result['gdp_quantile'] = pd.qcut(cosine_result['gdp_logged'], q=10, precision=3)"
   ]
  },
  {
   "cell_type": "code",
   "execution_count": 36,
   "metadata": {},
   "outputs": [
    {
     "name": "stdout",
     "output_type": "stream",
     "text": [
      "                            OLS Regression Results                            \n",
      "==============================================================================\n",
      "Dep. Variable:                 Radius   R-squared:                       0.086\n",
      "Model:                            OLS   Adj. R-squared:                  0.079\n",
      "Method:                 Least Squares   F-statistic:                     12.47\n",
      "Date:                Fri, 18 Mar 2022   Prob (F-statistic):           0.000570\n",
      "Time:                        14:16:57   Log-Likelihood:                 440.48\n",
      "No. Observations:                 134   AIC:                            -877.0\n",
      "Df Residuals:                     132   BIC:                            -871.2\n",
      "Df Model:                           1                                         \n",
      "Covariance Type:            nonrobust                                         \n",
      "===============================================================================\n",
      "                  coef    std err          t      P>|t|      [0.025      0.975]\n",
      "-------------------------------------------------------------------------------\n",
      "Constant        0.8458      0.008    102.629      0.000       0.830       0.862\n",
      "freq_logged    -0.0027      0.001     -3.531      0.001      -0.004      -0.001\n",
      "==============================================================================\n",
      "Omnibus:                        6.442   Durbin-Watson:                   2.084\n",
      "Prob(Omnibus):                  0.040   Jarque-Bera (JB):                3.258\n",
      "Skew:                          -0.112   Prob(JB):                        0.196\n",
      "Kurtosis:                       2.270   Cond. No.                         113.\n",
      "==============================================================================\n",
      "\n",
      "Notes:\n",
      "[1] Standard Errors assume that the covariance matrix of the errors is correctly specified.\n"
     ]
    }
   ],
   "source": [
    "#OLS for similarity and countries\n",
    "temp = cosine_result[cosine_result['subpieces']==1]\n",
    "\n",
    "for features in [['freq_logged']]:\n",
    "    Y = temp[['avg']].values\n",
    "    X = temp[features].values\n",
    "    X = sm.add_constant(X)\n",
    "    model = sm.OLS(Y,X)\n",
    "    results = model.fit()\n",
    "    print(results.summary(xname=['Constant'] + features, yname='Radius'))\n",
    "\n",
    "    "
   ]
  },
  {
   "cell_type": "markdown",
   "metadata": {},
   "source": [
    "# Tokenization’s effect on semantic similarity."
   ]
  },
  {
   "cell_type": "code",
   "execution_count": 93,
   "metadata": {},
   "outputs": [],
   "source": [
    "def calculate_ingroup_similarity_by_token(df):\n",
    "    ingroup_sample = df.copy()\n",
    "\n",
    "    ingroup_sample = ingroup_sample.set_index('Name').join(countries_data.set_index(\"name\"), how='outer')\n",
    "\n",
    "    in_vocab = ingroup_sample[ingroup_sample['subpieces'] == 1]\n",
    "    oov = ingroup_sample[ingroup_sample['subpieces'] >= 2]\n",
    "    \n",
    "    #create upper triangle\n",
    "    in_vocab = in_vocab.where(np.triu(np.ones(in_vocab.shape)).astype(bool))\n",
    "    #keep only in-vocabularly words\n",
    "    in_vocab = in_vocab[list(in_vocab.index)]\n",
    "    #calculate the average across all in-vocabularly pairs\n",
    "    in_vocab = in_vocab.mean(axis=1).mean()\n",
    "\n",
    "    #create upper triangle\n",
    "    oov = oov.where(np.triu(np.ones(oov.shape)).astype(bool))\n",
    "    #keep only in-vocabularly words\n",
    "    oov = oov[list(oov.index)]\n",
    "    #calculate the average across all in-vocabularly pairs\n",
    "    oov = oov.mean(axis=1).mean()\n",
    "    return in_vocab, oov"
   ]
  },
  {
   "cell_type": "code",
   "execution_count": 85,
   "metadata": {},
   "outputs": [],
   "source": [
    "def read_cosine_results_tokens(filename):\n",
    "    in_vocab_in_group_similarity = []\n",
    "    out_of_vocab_in_group_similarity = []\n",
    "\n",
    "    for x in range(0, 10):\n",
    "        df = pd.read_csv(filename + str(x) + \".csv\")\n",
    "\n",
    "        in_vocab, oov = calculate_ingroup_similarity_by_token(df)\n",
    "        in_vocab_in_group_similarity.append(in_vocab)\n",
    "        out_of_vocab_in_group_similarity.append(oov)\n",
    "    \n",
    "    return cosine_result, in_vocab_in_group_similarity, out_of_vocab_in_group_similarity"
   ]
  },
  {
   "cell_type": "code",
   "execution_count": 86,
   "metadata": {},
   "outputs": [
    {
     "name": "stdout",
     "output_type": "stream",
     "text": [
      "0.6277066577793942 0.6676263368341808\n"
     ]
    }
   ],
   "source": [
    "# cosine_result, in_vocab_in_group_similarity, out_of_vocab_in_group_similarity = read_cosine_results(\"cosine_results/cosine_result\")\n",
    "cosine_result, in_vocab_in_group_similarity, out_of_vocab_in_group_similarity = read_cosine_results(\"cosine_results/cosine_result_average\")\n",
    "print(np.array(in_vocab_in_group_similarity).mean(), np.array(out_of_vocab_in_group_similarity).mean())\n"
   ]
  },
  {
   "cell_type": "code",
   "execution_count": 87,
   "metadata": {},
   "outputs": [
    {
     "name": "stdout",
     "output_type": "stream",
     "text": [
      "taking random subsample of size 20000 from 184756 possible permutations\n",
      "nr of mean diffs: 20000\n",
      "\n",
      "\n",
      " Distribution of mean differences\n",
      "                                        │                                       \n",
      "                                      * ┼+39.5815                               \n",
      "                                    ** *│**                                     \n",
      "                                        │  *                                    \n",
      "                                   *    │   ***                                 \n",
      "                                 **     │      **                               \n",
      "                                *       │                                       \n",
      "                              *         │                                       \n",
      "                             *          │        **                             \n",
      "                            *           │           *                           \n",
      "                           *            │            *                          \n",
      "                         **             │             *                         \n",
      "                        *               │              **                       \n",
      "                       *                │                *                      \n",
      "                     **                 │                 *                     \n",
      "                    *                   │                  **                   \n",
      "                 ***                    │                    ***                \n",
      "             ****                       ┼+0.84                  ****            \n",
      "───*┼******─*───────────────────────────┼───────────────────────────****─***┼───\n",
      "     -0.035                             │                             +0.035    \n",
      "mean difference of tested dataset: -0.03991967905478666\n",
      "p_value: 0\n",
      "p_lower_than (probability that mean of test data is not lower than mean of ref data): 0\n",
      "p_value_greater_than (probability that mean of test data is not greater than mean of ref data): 1\n"
     ]
    },
    {
     "name": "stderr",
     "output_type": "stream",
     "text": [
      "/u/nlp/anaconda/main/anaconda3/envs/katezhou/lib/python3.8/site-packages/permutation_test/functions.py:240: VisibleDeprecationWarning: Passing `normed=True` on non-uniform bins has always been broken, and computes neither the probability density function nor the probability mass function. The result is only correct if the bins are uniform, when density=True will produce the same result anyway. The argument will be removed in a future version of numpy.\n",
      "  freq, bin_edges = np.histogram(data\\\n"
     ]
    },
    {
     "data": {
      "text/plain": [
       "0"
      ]
     },
     "execution_count": 87,
     "metadata": {},
     "output_type": "execute_result"
    }
   ],
   "source": [
    "p.permutationtest(in_vocab_in_group_similarity, out_of_vocab_in_group_similarity)"
   ]
  }
 ],
 "metadata": {
  "kernelspec": {
   "display_name": "Python 3",
   "language": "python",
   "name": "python3"
  },
  "language_info": {
   "codemirror_mode": {
    "name": "ipython",
    "version": 3
   },
   "file_extension": ".py",
   "mimetype": "text/x-python",
   "name": "python",
   "nbconvert_exporter": "python",
   "pygments_lexer": "ipython3",
   "version": "3.8.12"
  }
 },
 "nbformat": 4,
 "nbformat_minor": 2
}

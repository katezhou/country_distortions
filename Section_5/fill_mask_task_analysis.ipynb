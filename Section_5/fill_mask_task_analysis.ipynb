{
 "cells": [
  {
   "cell_type": "code",
   "execution_count": 4,
   "metadata": {},
   "outputs": [],
   "source": [
    "import nltk\n",
    "nltk.download('punkt')\n",
    "import nltk.data\n",
    "sentence_tokenizer = nltk.data.load('tokenizers/punkt/english.pickle')\n",
    "\n",
    "import pandas as pd\n",
    "import torch\n",
    "import numpy as np\n",
    "import tqdm\n",
    "from collections import Counter\n",
    "\n",
    "import csv\n",
    "import string\n",
    "from nltk.corpus import stopwords\n",
    "import re\n",
    "from nltk import tokenize\n",
    "import math\n",
    "\n",
    "from transformers import RobertaTokenizerFast\n",
    "from transformers import pipeline\n",
    "from transformers import BertConfig\n",
    "from transformers import BertModel\n",
    "from sklearn.metrics.pairwise import cosine_similarity\n",
    "\n",
    "from itertools import combinations \n",
    "import matplotlib.pyplot as plt\n",
    "\n",
    "import random\n",
    "from scipy.spatial import distance\n",
    "\n",
    "from matplotlib.colors import Colormap\n",
    "from sklearn.metrics import silhouette_score\n",
    "from mpl_toolkits import mplot3d\n",
    "from transformers import RobertaConfig, RobertaModel, RobertaTokenizer\n",
    "from transformers import *\n",
    "from transformers import AutoModelWithLMHead, AutoTokenizer\n",
    "import torch\n",
    "\n",
    "from transformers import AutoModelForMaskedLM\n"
   ]
  },
  {
   "cell_type": "code",
   "execution_count": 5,
   "metadata": {},
   "outputs": [],
   "source": [
    "import warnings\n",
    "warnings.filterwarnings('ignore')"
   ]
  },
  {
   "cell_type": "code",
   "execution_count": 6,
   "metadata": {},
   "outputs": [
    {
     "data": {
      "text/plain": [
       "True"
      ]
     },
     "execution_count": 6,
     "metadata": {},
     "output_type": "execute_result"
    }
   ],
   "source": [
    "# Check that PyTorch sees it\n",
    "torch.cuda.is_available()"
   ]
  },
  {
   "cell_type": "code",
   "execution_count": 7,
   "metadata": {},
   "outputs": [
    {
     "name": "stderr",
     "output_type": "stream",
     "text": [
      "Some weights of the model checkpoint at bert-base-cased were not used when initializing BertForMaskedLM: ['cls.seq_relationship.weight', 'cls.seq_relationship.bias']\n",
      "- This IS expected if you are initializing BertForMaskedLM from the checkpoint of a model trained on another task or with another architecture (e.g. initializing a BertForSequenceClassification model from a BertForPreTraining model).\n",
      "- This IS NOT expected if you are initializing BertForMaskedLM from the checkpoint of a model that you expect to be exactly identical (initializing a BertForSequenceClassification model from a BertForSequenceClassification model).\n",
      "Some weights of the model checkpoint at bert-base-multilingual-cased were not used when initializing BertForMaskedLM: ['cls.seq_relationship.weight', 'cls.seq_relationship.bias']\n",
      "- This IS expected if you are initializing BertForMaskedLM from the checkpoint of a model trained on another task or with another architecture (e.g. initializing a BertForSequenceClassification model from a BertForPreTraining model).\n",
      "- This IS NOT expected if you are initializing BertForMaskedLM from the checkpoint of a model that you expect to be exactly identical (initializing a BertForSequenceClassification model from a BertForSequenceClassification model).\n"
     ]
    }
   ],
   "source": [
    "#creating all the models\n",
    "bert_cased = pipeline(\n",
    "    \"fill-mask\",\n",
    "    model = BertForMaskedLM.from_pretrained('bert-base-cased'),\n",
    "    tokenizer = BertTokenizer.from_pretrained('bert-base-cased', model_max_length=512)\n",
    ")\n",
    "\n",
    "roberta = pipeline(\n",
    "    \"fill-mask\",\n",
    "    model = AutoModelForMaskedLM.from_pretrained('roberta-base'),\n",
    "    tokenizer = RobertaTokenizerFast.from_pretrained('roberta-base', model_max_length=512)\n",
    ")\n",
    "\n",
    "\n",
    "bert_base_multilingual_cased = pipeline(\n",
    "    \"fill-mask\",\n",
    "    model = AutoModelForMaskedLM.from_pretrained('bert-base-multilingual-cased'),\n",
    "    tokenizer = BertTokenizer.from_pretrained('bert-base-multilingual-cased', model_max_length=512)\n",
    ")\n",
    "\n",
    "tuned_128 = pipeline(\n",
    "    \"fill-mask\",\n",
    "    model = AutoModelForMaskedLM.from_pretrained(\"bert-base-cased-finetuned/checkpoint-2680/\"),\n",
    "    tokenizer = BertTokenizer.from_pretrained('bert-base-cased', model_max_length=512)\n",
    ")\n"
   ]
  },
  {
   "cell_type": "code",
   "execution_count": 8,
   "metadata": {},
   "outputs": [
    {
     "data": {
      "text/plain": [
       "[{'sequence': 'The country producing the most cocoa is Bolivia.',\n",
       "  'score': 0.09941908717155457,\n",
       "  'token': 11686,\n",
       "  'token_str': 'B o l i v i a'},\n",
       " {'sequence': 'The country producing the most cocoa is Brazil.',\n",
       "  'score': 0.06452249735593796,\n",
       "  'token': 3524,\n",
       "  'token_str': 'B r a z i l'},\n",
       " {'sequence': 'The country producing the most cocoa is China.',\n",
       "  'score': 0.06005091592669487,\n",
       "  'token': 1975,\n",
       "  'token_str': 'C h i n a'},\n",
       " {'sequence': 'The country producing the most cocoa is Colombia.',\n",
       "  'score': 0.037384092807769775,\n",
       "  'token': 6855,\n",
       "  'token_str': 'C o l o m b i a'},\n",
       " {'sequence': 'The country producing the most cocoa is Venezuela.',\n",
       "  'score': 0.034335650503635406,\n",
       "  'token': 7917,\n",
       "  'token_str': 'V e n e z u e l a'}]"
      ]
     },
     "execution_count": 8,
     "metadata": {},
     "output_type": "execute_result"
    }
   ],
   "source": [
    "bert_cased(\"The country producing the most cocoa is [MASK].\")"
   ]
  },
  {
   "cell_type": "code",
   "execution_count": 10,
   "metadata": {},
   "outputs": [
    {
     "data": {
      "text/html": [
       "<div>\n",
       "<style scoped>\n",
       "    .dataframe tbody tr th:only-of-type {\n",
       "        vertical-align: middle;\n",
       "    }\n",
       "\n",
       "    .dataframe tbody tr th {\n",
       "        vertical-align: top;\n",
       "    }\n",
       "\n",
       "    .dataframe thead th {\n",
       "        text-align: right;\n",
       "    }\n",
       "</style>\n",
       "<table border=\"1\" class=\"dataframe\">\n",
       "  <thead>\n",
       "    <tr style=\"text-align: right;\">\n",
       "      <th></th>\n",
       "      <th>Name</th>\n",
       "      <th>Region</th>\n",
       "      <th>gdp</th>\n",
       "      <th>gdp_logged</th>\n",
       "      <th>freq</th>\n",
       "      <th>freq_logged</th>\n",
       "      <th>subpieces</th>\n",
       "    </tr>\n",
       "  </thead>\n",
       "  <tbody>\n",
       "    <tr>\n",
       "      <th>0</th>\n",
       "      <td>Afghanistan</td>\n",
       "      <td>Asia</td>\n",
       "      <td>17876.0</td>\n",
       "      <td>9.791214</td>\n",
       "      <td>62898.0</td>\n",
       "      <td>11.049270</td>\n",
       "      <td>1</td>\n",
       "    </tr>\n",
       "    <tr>\n",
       "      <th>1</th>\n",
       "      <td>Mali</td>\n",
       "      <td>Africa</td>\n",
       "      <td>17432.0</td>\n",
       "      <td>9.766063</td>\n",
       "      <td>15045.0</td>\n",
       "      <td>9.618801</td>\n",
       "      <td>1</td>\n",
       "    </tr>\n",
       "    <tr>\n",
       "      <th>2</th>\n",
       "      <td>Malta</td>\n",
       "      <td>Europe</td>\n",
       "      <td>14863.0</td>\n",
       "      <td>9.606630</td>\n",
       "      <td>33290.0</td>\n",
       "      <td>10.413012</td>\n",
       "      <td>1</td>\n",
       "    </tr>\n",
       "    <tr>\n",
       "      <th>3</th>\n",
       "      <td>Mauritius</td>\n",
       "      <td>Africa</td>\n",
       "      <td>14180.0</td>\n",
       "      <td>9.559588</td>\n",
       "      <td>12182.0</td>\n",
       "      <td>9.407715</td>\n",
       "      <td>1</td>\n",
       "    </tr>\n",
       "    <tr>\n",
       "      <th>4</th>\n",
       "      <td>Mexico</td>\n",
       "      <td>Americas</td>\n",
       "      <td>1256440.0</td>\n",
       "      <td>14.043793</td>\n",
       "      <td>252598.0</td>\n",
       "      <td>12.439555</td>\n",
       "      <td>1</td>\n",
       "    </tr>\n",
       "    <tr>\n",
       "      <th>...</th>\n",
       "      <td>...</td>\n",
       "      <td>...</td>\n",
       "      <td>...</td>\n",
       "      <td>...</td>\n",
       "      <td>...</td>\n",
       "      <td>...</td>\n",
       "      <td>...</td>\n",
       "    </tr>\n",
       "    <tr>\n",
       "      <th>188</th>\n",
       "      <td>Antigua and Barbuda</td>\n",
       "      <td>Americas</td>\n",
       "      <td>1661.0</td>\n",
       "      <td>7.415175</td>\n",
       "      <td>2716.0</td>\n",
       "      <td>7.906915</td>\n",
       "      <td>6</td>\n",
       "    </tr>\n",
       "    <tr>\n",
       "      <th>189</th>\n",
       "      <td>Cote d'Ivoire</td>\n",
       "      <td>Africa</td>\n",
       "      <td>58539.0</td>\n",
       "      <td>10.977448</td>\n",
       "      <td>264.0</td>\n",
       "      <td>5.575949</td>\n",
       "      <td>7</td>\n",
       "    </tr>\n",
       "    <tr>\n",
       "      <th>190</th>\n",
       "      <td>Saint Kitts and Nevis</td>\n",
       "      <td>Americas</td>\n",
       "      <td>1050.0</td>\n",
       "      <td>6.956545</td>\n",
       "      <td>1765.0</td>\n",
       "      <td>7.475906</td>\n",
       "      <td>7</td>\n",
       "    </tr>\n",
       "    <tr>\n",
       "      <th>191</th>\n",
       "      <td>Saint Vincent and the Grenadines</td>\n",
       "      <td>Americas</td>\n",
       "      <td>825.0</td>\n",
       "      <td>6.715383</td>\n",
       "      <td>1661.0</td>\n",
       "      <td>7.415175</td>\n",
       "      <td>8</td>\n",
       "    </tr>\n",
       "    <tr>\n",
       "      <th>192</th>\n",
       "      <td>Sao Tome and Principe</td>\n",
       "      <td>Africa</td>\n",
       "      <td>421.0</td>\n",
       "      <td>6.042633</td>\n",
       "      <td>59.0</td>\n",
       "      <td>4.077537</td>\n",
       "      <td>9</td>\n",
       "    </tr>\n",
       "  </tbody>\n",
       "</table>\n",
       "<p>193 rows × 7 columns</p>\n",
       "</div>"
      ],
      "text/plain": [
       "                                 Name    Region        gdp  gdp_logged  \\\n",
       "0                         Afghanistan      Asia    17876.0    9.791214   \n",
       "1                                Mali    Africa    17432.0    9.766063   \n",
       "2                               Malta    Europe    14863.0    9.606630   \n",
       "3                           Mauritius    Africa    14180.0    9.559588   \n",
       "4                              Mexico  Americas  1256440.0   14.043793   \n",
       "..                                ...       ...        ...         ...   \n",
       "188               Antigua and Barbuda  Americas     1661.0    7.415175   \n",
       "189                     Cote d'Ivoire    Africa    58539.0   10.977448   \n",
       "190             Saint Kitts and Nevis  Americas     1050.0    6.956545   \n",
       "191  Saint Vincent and the Grenadines  Americas      825.0    6.715383   \n",
       "192             Sao Tome and Principe    Africa      421.0    6.042633   \n",
       "\n",
       "         freq  freq_logged  subpieces  \n",
       "0     62898.0    11.049270          1  \n",
       "1     15045.0     9.618801          1  \n",
       "2     33290.0    10.413012          1  \n",
       "3     12182.0     9.407715          1  \n",
       "4    252598.0    12.439555          1  \n",
       "..        ...          ...        ...  \n",
       "188    2716.0     7.906915          6  \n",
       "189     264.0     5.575949          7  \n",
       "190    1765.0     7.475906          7  \n",
       "191    1661.0     7.415175          8  \n",
       "192      59.0     4.077537          9  \n",
       "\n",
       "[193 rows x 7 columns]"
      ]
     },
     "execution_count": 10,
     "metadata": {},
     "output_type": "execute_result"
    }
   ],
   "source": [
    "countries_data = pd.read_csv(\"../Section_3_4/country_metadata/un_countries_meta.csv\")"
   ]
  },
  {
   "cell_type": "code",
   "execution_count": 14,
   "metadata": {},
   "outputs": [
    {
     "data": {
      "text/plain": [
       "['Syria',\n",
       " 'Serbia',\n",
       " 'Myanmar',\n",
       " 'Uzbekistan',\n",
       " 'Chad',\n",
       " 'Egypt',\n",
       " 'Qatar',\n",
       " 'Madagascar',\n",
       " 'Angola',\n",
       " 'Jamaica',\n",
       " 'Barbados',\n",
       " 'Guinea',\n",
       " 'Cambodia',\n",
       " 'Iceland',\n",
       " 'Iran',\n",
       " 'Bahamas',\n",
       " 'Senegal',\n",
       " 'Uganda',\n",
       " 'Poland',\n",
       " 'India']"
      ]
     },
     "execution_count": 14,
     "metadata": {},
     "output_type": "execute_result"
    }
   ],
   "source": [
    "interested_countries = list(pd.read_csv(\"interested_countries.txt\", header=None)[0].values)"
   ]
  },
  {
   "cell_type": "code",
   "execution_count": 11,
   "metadata": {},
   "outputs": [],
   "source": [
    "def make_predictions(data, model, masked_sentence_index):\n",
    "    top_1 = []\n",
    "    top_5 = []\n",
    "    for n, row in data.iterrows():\n",
    "        if (n % 1000 == 0):\n",
    "            print(\"make predictions\", n)\n",
    "        phrase = row[masked_sentence_index]\n",
    "        result = model(phrase)\n",
    "        predictions = []\n",
    "        for x in result:\n",
    "            prediction = str(x['token_str'].replace(\" \", \"\"))\n",
    "            predictions.append(prediction)\n",
    "        top_1.append(predictions[0])\n",
    "        top_5.append([predictions])\n",
    "\n",
    "    data['1_' + masked_sentence_index] = top_1\n",
    "    data['5_' + masked_sentence_index] = top_5\n",
    "    return score_predictions(data, masked_sentence_index)"
   ]
  },
  {
   "cell_type": "code",
   "execution_count": 12,
   "metadata": {},
   "outputs": [],
   "source": [
    "def score_predictions(data, masked_sentence_index):\n",
    "    score_1 = []\n",
    "    score_5 = []\n",
    "    for n, row in data.iterrows():\n",
    "        if (n % 100 == 0):\n",
    "            print(\"score predictions\", n)\n",
    "        \n",
    "        actual_answer = row['keyword']\n",
    "        #give credit for partial match\n",
    "        if (row['1_' + masked_sentence_index] == actual_answer):\n",
    "            score_1.append(1)\n",
    "        else:\n",
    "            score_1.append(0)\n",
    "        \n",
    "        score=0\n",
    "        for x in row['5_' + masked_sentence_index][0]:\n",
    "            if (x in actual_answer):\n",
    "                score = 1\n",
    "        score_5.append(score)\n",
    "        \n",
    "    data['1_score_' + masked_sentence_index] = score_1\n",
    "    data['5_score_' + masked_sentence_index] = score_5\n",
    "    return data"
   ]
  },
  {
   "cell_type": "code",
   "execution_count": 15,
   "metadata": {},
   "outputs": [],
   "source": [
    "#Not the best design, but needed to retroactively pull out which country was tied with which sentence\n",
    "def get_testing_data(filename):\n",
    "    file = pd.read_csv(filename)\n",
    "    result = pd.DataFrame()\n",
    "    for n, row in file.iterrows():\n",
    "        line = row['text']\n",
    "        for sentence in sentence_tokenizer.tokenize(line):\n",
    "             for keyword in interested_countries:\n",
    "                if (keyword in sentence) and (re.search(r\"\\b\" + keyword + r\"\\b\", sentence) is not None):\n",
    "                    result = result.append([[keyword, sentence]])\n",
    "    result.columns=['keyword', 'original_sentence']\n",
    "    result = result.groupby('keyword').apply(lambda x: x.sample(min(len(x), 100))).reset_index(drop=True)\n",
    "    return result\n",
    "\n"
   ]
  },
  {
   "cell_type": "code",
   "execution_count": 16,
   "metadata": {},
   "outputs": [],
   "source": [
    "def create_test_data():\n",
    "    #test data for tuned words\n",
    "    test_data_1 = get_testing_data(\"fine_tuning_test_data.csv\")\n",
    "\n",
    "    #test data for untuned words\n",
    "    data = pd.read_csv(\"pre_training_country_text.csv\", header=None)\n",
    "    data.columns = ['keyword', 'original_sentence']\n",
    "    data = data.drop_duplicates(subset=['original_sentence'])\n",
    "    test_data_2 = data[~data['keyword'].isin(interested_countries)].groupby(\"keyword\").apply(lambda x: x.sample(n=100)).reset_index(drop=True)\n",
    "\n",
    "    #add both together\n",
    "    test_data = pd.concat([test_data_1, test_data_2])\n",
    "\n",
    "    #only want in vocabulary words\n",
    "    test_data = test_data.set_index(\"keyword\").join(countries_data.set_index(\"Name\"), how='outer')\n",
    "    test_data = test_data[test_data['subpieces']==1]\n",
    "\n",
    "    #clean up\n",
    "    test_data = test_data.reset_index()\n",
    "    test_data.columns = ['keyword'] + list(test_data.columns[1:])\n",
    "    test_data.to_csv(\"test_data_100.csv\", index=False)\n"
   ]
  },
  {
   "cell_type": "code",
   "execution_count": 29,
   "metadata": {},
   "outputs": [],
   "source": [
    "# create_test_data()"
   ]
  },
  {
   "cell_type": "markdown",
   "metadata": {},
   "source": [
    "# Evaluation"
   ]
  },
  {
   "cell_type": "code",
   "execution_count": 18,
   "metadata": {},
   "outputs": [],
   "source": [
    "test_data = pd.read_csv(\"model_prediction_results/test_data_100.csv\")\n",
    "bert_test_data = test_data.copy()\n",
    "bert_test_data['original_masked'] = bert_test_data.apply(lambda x: x['original_sentence'].replace(x['keyword'], bert_cased.tokenizer.mask_token, 1), axis=1)\n",
    "roberta_test_data = test_data.copy()\n",
    "roberta_test_data['original_masked'] = roberta_test_data.apply(lambda x: x['original_sentence'].replace(x['keyword'], roberta.tokenizer.mask_token, 1), axis=1)\n"
   ]
  },
  {
   "cell_type": "code",
   "execution_count": 19,
   "metadata": {
    "scrolled": true
   },
   "outputs": [],
   "source": [
    "#making predictions and saving to CSV (commented out to not overwrite)\n",
    "original_results = make_predictions(bert_test_data.copy().reset_index().sample(n=1), bert_cased,'original_masked')\n",
    "# original_results.to_csv(\"model_prediction_results/original_results_100.csv\", index=False)\n",
    "\n",
    "ml_results = make_predictions(bert_test_data.copy().reset_index().sample(n=1), bert_base_multilingual_cased,'original_masked')\n",
    "# ml_results.to_csv(\"model_prediction_results/ml_results_100.csv\", index=False)\n",
    "\n",
    "roberta_results = make_predictions(roberta_test_data.copy().reset_index().sample(n=1), roberta,'original_masked')\n",
    "# roberta_results.to_csv(\"model_prediction_results/roberta_results_100.csv\", index=False)\n",
    "\n",
    "tuned128_results = make_predictions(bert_test_data.copy().reset_index().sample(n=1), tuned_128,'original_masked')\n",
    "# tuned128_results.to_csv(\"model_prediction_results/tuned_128_100.csv\", index=False)"
   ]
  },
  {
   "cell_type": "code",
   "execution_count": 20,
   "metadata": {},
   "outputs": [],
   "source": [
    "original_results = pd.read_csv(\"model_prediction_results/original_results_100.csv\")\n",
    "tuned_results1 = pd.read_csv(\"model_prediction_results/tuned_128_100.csv\")\n",
    "ml_results = pd.read_csv(\"model_prediction_results/ml_results_100.csv\")\n",
    "roberta_results = pd.read_csv(\"model_prediction_results/roberta_results_100.csv\")"
   ]
  },
  {
   "cell_type": "markdown",
   "metadata": {},
   "source": [
    "# Richer Countries are More Frequently Predicted\n"
   ]
  },
  {
   "cell_type": "code",
   "execution_count": 21,
   "metadata": {},
   "outputs": [
    {
     "data": {
      "text/html": [
       "<div>\n",
       "<style scoped>\n",
       "    .dataframe tbody tr th:only-of-type {\n",
       "        vertical-align: middle;\n",
       "    }\n",
       "\n",
       "    .dataframe tbody tr th {\n",
       "        vertical-align: top;\n",
       "    }\n",
       "\n",
       "    .dataframe thead th {\n",
       "        text-align: right;\n",
       "    }\n",
       "</style>\n",
       "<table border=\"1\" class=\"dataframe\">\n",
       "  <thead>\n",
       "    <tr style=\"text-align: right;\">\n",
       "      <th></th>\n",
       "      <th>1_score_original_masked</th>\n",
       "    </tr>\n",
       "    <tr>\n",
       "      <th>gdp_quantile</th>\n",
       "      <th></th>\n",
       "    </tr>\n",
       "  </thead>\n",
       "  <tbody>\n",
       "    <tr>\n",
       "      <th>(507.999, 16887.0]</th>\n",
       "      <td>26.117647</td>\n",
       "    </tr>\n",
       "    <tr>\n",
       "      <th>(16887.0, 59168.0]</th>\n",
       "      <td>26.090909</td>\n",
       "    </tr>\n",
       "    <tr>\n",
       "      <th>(59168.0, 317359.0]</th>\n",
       "      <td>31.823529</td>\n",
       "    </tr>\n",
       "    <tr>\n",
       "      <th>(317359.0, 14342933.0]</th>\n",
       "      <td>42.484848</td>\n",
       "    </tr>\n",
       "  </tbody>\n",
       "</table>\n",
       "</div>"
      ],
      "text/plain": [
       "                        1_score_original_masked\n",
       "gdp_quantile                                   \n",
       "(507.999, 16887.0]                    26.117647\n",
       "(16887.0, 59168.0]                    26.090909\n",
       "(59168.0, 317359.0]                   31.823529\n",
       "(317359.0, 14342933.0]                42.484848"
      ]
     },
     "metadata": {},
     "output_type": "display_data"
    }
   ],
   "source": [
    "# Table 7 in Appendix\n",
    "for x in [original_results]:\n",
    "    x['gdp_quantile'] = pd.qcut(x['gdp'].values, q=4)\n",
    "    display(x[['1_score_original_masked', 'gdp_quantile']].groupby(\"gdp_quantile\").mean() * 100)"
   ]
  },
  {
   "cell_type": "code",
   "execution_count": 22,
   "metadata": {},
   "outputs": [
    {
     "name": "stdout",
     "output_type": "stream",
     "text": [
      "0.02355844738613417\n",
      "0.2517388377832623\n"
     ]
    }
   ],
   "source": [
    "for n, df in enumerate([original_results]): \n",
    "    temp = pd.DataFrame.from_dict(dict(Counter(df['1_original_masked'].values)), orient='index').reset_index()\n",
    "    temp = temp.set_index('index').join(countries_data.set_index('Name'), how='outer')\n",
    "    temp = temp.dropna().reset_index()\n",
    "    temp.columns = ['index', 'prediction_count', 'Region', 'gdp', 'gdp_logged', 'freq', 'freq_logged',\n",
    "       'subpieces']\n",
    "print(temp.sort_values(by='prediction_count').head(10).sum()['prediction_count'] / temp['prediction_count'].sum())\n",
    "print(temp.sort_values(by='prediction_count').tail(10).sum()['prediction_count'] / temp['prediction_count'].sum())"
   ]
  },
  {
   "cell_type": "markdown",
   "metadata": {},
   "source": [
    "# Figure 3"
   ]
  },
  {
   "cell_type": "code",
   "execution_count": 23,
   "metadata": {},
   "outputs": [],
   "source": [
    "def visualize_prediction_count(temp, ax, filename, interested=False):\n",
    "    Y = temp[['prediction_count']].values\n",
    "    X = temp[['gdp_logged']].values\n",
    "\n",
    "    if (interested):\n",
    "        temp['interested_countries'] = temp['index'].apply(lambda x: 1 if x in [\"India\", \"Cambodia\", \"China\", \"France\"] else 0)    \n",
    "        categories = np.array(temp['interested_countries'].values)\n",
    "        colormap = np.array(['#377eb8', '#ff7f00'])\n",
    "        ax.scatter(X,Y, s=15, c=colormap[categories])\n",
    "    else:\n",
    "        ax.scatter(X,Y, s=15)\n",
    "\n",
    "    ax.tick_params(axis='both', which='major', labelsize=15)\n",
    "    n = list(temp['index'].values)\n",
    "\n",
    "    for i, txt in enumerate(n):\n",
    "        if (txt in set([\"India\", \"Cambodia\", \"China\", \"France\"])):\n",
    "            ax.annotate(txt, (X[i] - .2, Y[i]), fontsize=15, ha='right', bbox=dict(facecolor='1', edgecolor='.1', pad=2.0))\n",
    "\n",
    "\n",
    "    plt.savefig(filename, bbox_inches='tight', dpi=600)\n"
   ]
  },
  {
   "cell_type": "code",
   "execution_count": 24,
   "metadata": {},
   "outputs": [
    {
     "name": "stdout",
     "output_type": "stream",
     "text": [
      "                  prediction_count  gdp_logged\n",
      "prediction_count          1.000000    0.644602\n",
      "gdp_logged                0.644602    1.000000\n"
     ]
    },
    {
     "data": {
      "image/png": "[encoded data removed]",
      "text/plain": [
       "<Figure size 432x216 with 1 Axes>"
      ]
     },
     "metadata": {
      "needs_background": "light"
     },
     "output_type": "display_data"
    }
   ],
   "source": [
    "fig, axs = plt.subplots(1, 1, figsize=(6, 3), sharex='col')\n",
    "fig.text(0.5, -0.1, 'Gross Domestic Product (Logged)', ha='center', fontsize=20)\n",
    "fig.text(0.0, 0.5, '# of Predictions', va='center', rotation='vertical', fontsize=20)\n",
    "plt.subplots_adjust(wspace=0, hspace=0.1)\n",
    "\n",
    "for n, x in enumerate([original_results]): # ml_results, roberta_results\n",
    "    x = pd.DataFrame.from_dict(dict(Counter(x['1_original_masked'].values)), orient='index').reset_index()\n",
    "    x = x.set_index('index').join(countries_data.set_index('Name'), how='outer')\n",
    "    x = x.dropna().reset_index()\n",
    "    x.columns = ['index', 'prediction_count', 'Region', 'gdp', 'gdp_logged', 'freq', 'freq_logged',\n",
    "       'subpieces']\n",
    "\n",
    "    visualize_prediction_count(x, plt, \"freq_gdp_prediction_qa_og.pdf\", True) \n",
    "    \n",
    "    print(x[['prediction_count', 'gdp_logged']].corr(\"pearson\"))"
   ]
  },
  {
   "cell_type": "markdown",
   "metadata": {},
   "source": [
    "# Limitations of Mitigation Efforts"
   ]
  },
  {
   "cell_type": "code",
   "execution_count": 25,
   "metadata": {},
   "outputs": [
    {
     "data": {
      "text/html": [
       "<div>\n",
       "<style scoped>\n",
       "    .dataframe tbody tr th:only-of-type {\n",
       "        vertical-align: middle;\n",
       "    }\n",
       "\n",
       "    .dataframe tbody tr th {\n",
       "        vertical-align: top;\n",
       "    }\n",
       "\n",
       "    .dataframe thead th {\n",
       "        text-align: right;\n",
       "    }\n",
       "</style>\n",
       "<table border=\"1\" class=\"dataframe\">\n",
       "  <thead>\n",
       "    <tr style=\"text-align: right;\">\n",
       "      <th></th>\n",
       "      <th>1_score_original_masked</th>\n",
       "    </tr>\n",
       "    <tr>\n",
       "      <th>gdp_quantile</th>\n",
       "      <th></th>\n",
       "    </tr>\n",
       "  </thead>\n",
       "  <tbody>\n",
       "    <tr>\n",
       "      <th>(507.999, 16887.0]</th>\n",
       "      <td>26.117647</td>\n",
       "    </tr>\n",
       "    <tr>\n",
       "      <th>(16887.0, 59168.0]</th>\n",
       "      <td>26.090909</td>\n",
       "    </tr>\n",
       "    <tr>\n",
       "      <th>(59168.0, 317359.0]</th>\n",
       "      <td>31.823529</td>\n",
       "    </tr>\n",
       "    <tr>\n",
       "      <th>(317359.0, 14342933.0]</th>\n",
       "      <td>42.484848</td>\n",
       "    </tr>\n",
       "  </tbody>\n",
       "</table>\n",
       "</div>"
      ],
      "text/plain": [
       "                        1_score_original_masked\n",
       "gdp_quantile                                   \n",
       "(507.999, 16887.0]                    26.117647\n",
       "(16887.0, 59168.0]                    26.090909\n",
       "(59168.0, 317359.0]                   31.823529\n",
       "(317359.0, 14342933.0]                42.484848"
      ]
     },
     "metadata": {},
     "output_type": "display_data"
    },
    {
     "data": {
      "text/html": [
       "<div>\n",
       "<style scoped>\n",
       "    .dataframe tbody tr th:only-of-type {\n",
       "        vertical-align: middle;\n",
       "    }\n",
       "\n",
       "    .dataframe tbody tr th {\n",
       "        vertical-align: top;\n",
       "    }\n",
       "\n",
       "    .dataframe thead th {\n",
       "        text-align: right;\n",
       "    }\n",
       "</style>\n",
       "<table border=\"1\" class=\"dataframe\">\n",
       "  <thead>\n",
       "    <tr style=\"text-align: right;\">\n",
       "      <th></th>\n",
       "      <th>1_score_original_masked</th>\n",
       "    </tr>\n",
       "    <tr>\n",
       "      <th>gdp_quantile</th>\n",
       "      <th></th>\n",
       "    </tr>\n",
       "  </thead>\n",
       "  <tbody>\n",
       "    <tr>\n",
       "      <th>(507.999, 16887.0]</th>\n",
       "      <td>15.117647</td>\n",
       "    </tr>\n",
       "    <tr>\n",
       "      <th>(16887.0, 59168.0]</th>\n",
       "      <td>17.909091</td>\n",
       "    </tr>\n",
       "    <tr>\n",
       "      <th>(59168.0, 317359.0]</th>\n",
       "      <td>21.823529</td>\n",
       "    </tr>\n",
       "    <tr>\n",
       "      <th>(317359.0, 14342933.0]</th>\n",
       "      <td>28.696970</td>\n",
       "    </tr>\n",
       "  </tbody>\n",
       "</table>\n",
       "</div>"
      ],
      "text/plain": [
       "                        1_score_original_masked\n",
       "gdp_quantile                                   \n",
       "(507.999, 16887.0]                    15.117647\n",
       "(16887.0, 59168.0]                    17.909091\n",
       "(59168.0, 317359.0]                   21.823529\n",
       "(317359.0, 14342933.0]                28.696970"
      ]
     },
     "metadata": {},
     "output_type": "display_data"
    },
    {
     "data": {
      "text/html": [
       "<div>\n",
       "<style scoped>\n",
       "    .dataframe tbody tr th:only-of-type {\n",
       "        vertical-align: middle;\n",
       "    }\n",
       "\n",
       "    .dataframe tbody tr th {\n",
       "        vertical-align: top;\n",
       "    }\n",
       "\n",
       "    .dataframe thead th {\n",
       "        text-align: right;\n",
       "    }\n",
       "</style>\n",
       "<table border=\"1\" class=\"dataframe\">\n",
       "  <thead>\n",
       "    <tr style=\"text-align: right;\">\n",
       "      <th></th>\n",
       "      <th>1_score_original_masked</th>\n",
       "    </tr>\n",
       "    <tr>\n",
       "      <th>gdp_quantile</th>\n",
       "      <th></th>\n",
       "    </tr>\n",
       "  </thead>\n",
       "  <tbody>\n",
       "    <tr>\n",
       "      <th>(507.999, 16887.0]</th>\n",
       "      <td>13.852941</td>\n",
       "    </tr>\n",
       "    <tr>\n",
       "      <th>(16887.0, 59168.0]</th>\n",
       "      <td>21.606061</td>\n",
       "    </tr>\n",
       "    <tr>\n",
       "      <th>(59168.0, 317359.0]</th>\n",
       "      <td>26.352941</td>\n",
       "    </tr>\n",
       "    <tr>\n",
       "      <th>(317359.0, 14342933.0]</th>\n",
       "      <td>38.666667</td>\n",
       "    </tr>\n",
       "  </tbody>\n",
       "</table>\n",
       "</div>"
      ],
      "text/plain": [
       "                        1_score_original_masked\n",
       "gdp_quantile                                   \n",
       "(507.999, 16887.0]                    13.852941\n",
       "(16887.0, 59168.0]                    21.606061\n",
       "(59168.0, 317359.0]                   26.352941\n",
       "(317359.0, 14342933.0]                38.666667"
      ]
     },
     "metadata": {},
     "output_type": "display_data"
    },
    {
     "data": {
      "text/html": [
       "<div>\n",
       "<style scoped>\n",
       "    .dataframe tbody tr th:only-of-type {\n",
       "        vertical-align: middle;\n",
       "    }\n",
       "\n",
       "    .dataframe tbody tr th {\n",
       "        vertical-align: top;\n",
       "    }\n",
       "\n",
       "    .dataframe thead th {\n",
       "        text-align: right;\n",
       "    }\n",
       "</style>\n",
       "<table border=\"1\" class=\"dataframe\">\n",
       "  <thead>\n",
       "    <tr style=\"text-align: right;\">\n",
       "      <th></th>\n",
       "      <th>1_score_original_masked</th>\n",
       "    </tr>\n",
       "    <tr>\n",
       "      <th>gdp_quantile</th>\n",
       "      <th></th>\n",
       "    </tr>\n",
       "  </thead>\n",
       "  <tbody>\n",
       "    <tr>\n",
       "      <th>(507.999, 16887.0]</th>\n",
       "      <td>28.352941</td>\n",
       "    </tr>\n",
       "    <tr>\n",
       "      <th>(16887.0, 59168.0]</th>\n",
       "      <td>29.545455</td>\n",
       "    </tr>\n",
       "    <tr>\n",
       "      <th>(59168.0, 317359.0]</th>\n",
       "      <td>29.588235</td>\n",
       "    </tr>\n",
       "    <tr>\n",
       "      <th>(317359.0, 14342933.0]</th>\n",
       "      <td>37.575758</td>\n",
       "    </tr>\n",
       "  </tbody>\n",
       "</table>\n",
       "</div>"
      ],
      "text/plain": [
       "                        1_score_original_masked\n",
       "gdp_quantile                                   \n",
       "(507.999, 16887.0]                    28.352941\n",
       "(16887.0, 59168.0]                    29.545455\n",
       "(59168.0, 317359.0]                   29.588235\n",
       "(317359.0, 14342933.0]                37.575758"
      ]
     },
     "metadata": {},
     "output_type": "display_data"
    }
   ],
   "source": [
    "# Table 7 in Appendix\n",
    "for x in [original_results, ml_results, roberta_results, tuned_results1]:\n",
    "    x['gdp_quantile'] = pd.qcut(x['gdp'].values, q=4)\n",
    "    display(x[['1_score_original_masked', 'gdp_quantile']].groupby(\"gdp_quantile\").mean() * 100)"
   ]
  },
  {
   "cell_type": "code",
   "execution_count": 26,
   "metadata": {},
   "outputs": [
    {
     "name": "stdout",
     "output_type": "stream",
     "text": [
      "Accuracy\n",
      "BERT-Base\n",
      "0.3175\n",
      "0.3156140350877193\n",
      "----\n",
      "Tuned\n",
      "0.4455\n",
      "0.2889473684210526\n",
      "----\n",
      "% of predictions\n",
      "BERT-Base\n",
      "0.1762396230648418\n",
      "0.8237603769351581\n",
      "----\n",
      "Tuned\n",
      "0.44414360208584036\n",
      "0.5558563979141596\n",
      "----\n"
     ]
    }
   ],
   "source": [
    "print(\"Accuracy\")\n",
    "for df, name in zip([original_results, tuned_results1], ['BERT-Base', 'Tuned']):\n",
    "    print(name)\n",
    "    interested = df[df['keyword'].isin(interested_countries)]\n",
    "    print(len(interested[interested['keyword']==interested['1_original_masked']])/len(interested))\n",
    "    other = df[~df['keyword'].isin(interested_countries)]\n",
    "    print(len(other[other['keyword']==other['1_original_masked']])/len(other))\n",
    "    print('----')\n",
    "    \n",
    "print(\"% of predictions\")    \n",
    "for df, name in zip([original_results, tuned_results1], ['BERT-Base', 'Tuned']):\n",
    "    print(name)\n",
    "    temp = pd.DataFrame.from_dict(dict(Counter(df['1_original_masked'].values)), orient='index').reset_index()\n",
    "    temp = temp.set_index('index').join(countries_data.set_index('Name'), how='outer')\n",
    "    temp = temp.dropna().reset_index()\n",
    "    temp.columns = ['index', 'prediction_count', 'Region', 'gdp', 'gdp_logged', 'freq', 'freq_logged',\n",
    "       'subpieces']\n",
    "    print(temp[temp['index'].isin(interested_countries)]['prediction_count'].sum() / temp['prediction_count'].sum())\n",
    "    print(temp[~temp['index'].isin(interested_countries)]['prediction_count'].sum() / temp['prediction_count'].sum())\n",
    "    print('----')"
   ]
  },
  {
   "cell_type": "code",
   "execution_count": 27,
   "metadata": {},
   "outputs": [
    {
     "name": "stdout",
     "output_type": "stream",
     "text": [
      "                  prediction_count  gdp_logged\n",
      "prediction_count           1.00000     0.21933\n",
      "gdp_logged                 0.21933     1.00000\n"
     ]
    },
    {
     "data": {
      "image/png": "[encoded data removed]",
      "text/plain": [
       "<Figure size 432x216 with 1 Axes>"
      ]
     },
     "metadata": {
      "needs_background": "light"
     },
     "output_type": "display_data"
    }
   ],
   "source": [
    "fig, axs = plt.subplots(1, 1, figsize=(6, 3), sharex='col')\n",
    "fig.text(0.5, -0.1, 'Gross Domestic Product (Logged)', ha='center', fontsize=20)\n",
    "fig.text(0.0, 0.5, '# of Predictions', va='center', rotation='vertical', fontsize=20)\n",
    "plt.subplots_adjust(wspace=0, hspace=0.1)\n",
    "\n",
    "for n, x in enumerate([tuned_results1]): \n",
    "    x = pd.DataFrame.from_dict(dict(Counter(x['1_original_masked'].values)), orient='index').reset_index()\n",
    "    x = x.set_index('index').join(countries_data.set_index('Name'), how='outer')\n",
    "    x = x.dropna().reset_index()\n",
    "    x.columns = ['index', 'prediction_count', 'Region', 'gdp', 'gdp_logged', 'freq', 'freq_logged',\n",
    "       'subpieces']\n",
    "\n",
    "    visualize_prediction_count(x, plt, \"freq_gdp_prediction_qa_tuned.pdf\", True) \n",
    "    \n",
    "    print(x[['prediction_count', 'gdp_logged']].corr(\"pearson\"))"
   ]
  },
  {
   "cell_type": "code",
   "execution_count": null,
   "metadata": {},
   "outputs": [],
   "source": []
  }
 ],
 "metadata": {
  "kernelspec": {
   "display_name": "Python 3",
   "language": "python",
   "name": "python3"
  },
  "language_info": {
   "codemirror_mode": {
    "name": "ipython",
    "version": 3
   },
   "file_extension": ".py",
   "mimetype": "text/x-python",
   "name": "python",
   "nbconvert_exporter": "python",
   "pygments_lexer": "ipython3",
   "version": "3.8.12"
  }
 },
 "nbformat": 4,
 "nbformat_minor": 2
}

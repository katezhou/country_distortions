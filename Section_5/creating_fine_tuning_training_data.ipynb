{
 "cells": [
  {
   "cell_type": "code",
   "execution_count": 28,
   "metadata": {},
   "outputs": [],
   "source": [
    "import pandas as pd\n",
    "import math\n",
    "import re\n",
    "import nltk.data\n",
    "tokenizer = nltk.data.load('tokenizers/punkt/english.pickle')"
   ]
  },
  {
   "cell_type": "code",
   "execution_count": 30,
   "metadata": {},
   "outputs": [],
   "source": [
    "#load data\n",
    "country_names = pd.read_csv(\"../Section_3_4/country_metadata/un_countries_meta.csv\")\n",
    "#Old version of this code included countries, Kosovo, Palestine, and Taiwan which were not included in the final analysis\n",
    "keywords = country_names['Name'].unique()"
   ]
  },
  {
   "cell_type": "code",
   "execution_count": 31,
   "metadata": {},
   "outputs": [],
   "source": [
    "def write_to_file(result, output_file_name):\n",
    "    result.columns = ['keyword', 'sentence']\n",
    "    result.to_csv(output_file_name, mode='a', index=False, header=False)\n",
    "    return pd.DataFrame()"
   ]
  },
  {
   "cell_type": "code",
   "execution_count": null,
   "metadata": {},
   "outputs": [],
   "source": [
    "f = open(\"pre_training_country_text.txt\")\n",
    "\n",
    "result = pd.DataFrame()\n",
    "text = []\n",
    "for line in f:\n",
    "    for sentence in tokenizer.tokenize(line):\n",
    "         for keyword in keywords:\n",
    "            if (keyword in sentence) and (re.search(r\"\\b\" + keyword + r\"\\b\", sentence) is not None):\n",
    "                result = result.append([[keyword, sentence]])\n",
    "    #clear cache\n",
    "    if (len(result) > 5000):    \n",
    "        result = write_to_file(result, 'pre_training_country_text.csv')\n",
    "result"
   ]
  },
  {
   "cell_type": "code",
   "execution_count": 33,
   "metadata": {},
   "outputs": [],
   "source": [
    "data = pd.read_csv(\"pre_training_country_text.csv\", header=None)"
   ]
  },
  {
   "cell_type": "code",
   "execution_count": 34,
   "metadata": {},
   "outputs": [
    {
     "data": {
      "text/html": [
       "<div>\n",
       "<style scoped>\n",
       "    .dataframe tbody tr th:only-of-type {\n",
       "        vertical-align: middle;\n",
       "    }\n",
       "\n",
       "    .dataframe tbody tr th {\n",
       "        vertical-align: top;\n",
       "    }\n",
       "\n",
       "    .dataframe thead th {\n",
       "        text-align: right;\n",
       "    }\n",
       "</style>\n",
       "<table border=\"1\" class=\"dataframe\">\n",
       "  <thead>\n",
       "    <tr style=\"text-align: right;\">\n",
       "      <th></th>\n",
       "      <th>country</th>\n",
       "      <th>text</th>\n",
       "    </tr>\n",
       "  </thead>\n",
       "  <tbody>\n",
       "    <tr>\n",
       "      <th>0</th>\n",
       "      <td>Iran</td>\n",
       "      <td>Arif ( also spelled Aref in Pushtu, Persian &amp; ...</td>\n",
       "    </tr>\n",
       "    <tr>\n",
       "      <th>121</th>\n",
       "      <td>Japan</td>\n",
       "      <td>The Communist Party of Japan was instructed to...</td>\n",
       "    </tr>\n",
       "    <tr>\n",
       "      <th>122</th>\n",
       "      <td>Netherlands</td>\n",
       "      <td>By the time Marius was six years old, his fami...</td>\n",
       "    </tr>\n",
       "    <tr>\n",
       "      <th>123</th>\n",
       "      <td>Estonia</td>\n",
       "      <td>Because Sweden placed 19th at the 2005 contest...</td>\n",
       "    </tr>\n",
       "    <tr>\n",
       "      <th>126</th>\n",
       "      <td>Sweden</td>\n",
       "      <td>Meaning that Sweden automatically qualified fo...</td>\n",
       "    </tr>\n",
       "    <tr>\n",
       "      <th>...</th>\n",
       "      <td>...</td>\n",
       "      <td>...</td>\n",
       "    </tr>\n",
       "    <tr>\n",
       "      <th>881202</th>\n",
       "      <td>Angola</td>\n",
       "      <td>The Portuguese Empire, then LHT, introduced LH...</td>\n",
       "    </tr>\n",
       "    <tr>\n",
       "      <th>881204</th>\n",
       "      <td>Portugal</td>\n",
       "      <td>Although Portugal itself switched to RHT in 19...</td>\n",
       "    </tr>\n",
       "    <tr>\n",
       "      <th>881206</th>\n",
       "      <td>Angola</td>\n",
       "      <td>Other former Portuguese colonies in Africa inc...</td>\n",
       "    </tr>\n",
       "    <tr>\n",
       "      <th>881209</th>\n",
       "      <td>Nauru</td>\n",
       "      <td>In May 2016, the Parliament of Nauru passed th...</td>\n",
       "    </tr>\n",
       "    <tr>\n",
       "      <th>881210</th>\n",
       "      <td>Guinea</td>\n",
       "      <td>Júnior started his club career in Bissau with ...</td>\n",
       "    </tr>\n",
       "  </tbody>\n",
       "</table>\n",
       "<p>317497 rows × 2 columns</p>\n",
       "</div>"
      ],
      "text/plain": [
       "            country                                               text\n",
       "0              Iran  Arif ( also spelled Aref in Pushtu, Persian & ...\n",
       "121           Japan  The Communist Party of Japan was instructed to...\n",
       "122     Netherlands  By the time Marius was six years old, his fami...\n",
       "123         Estonia  Because Sweden placed 19th at the 2005 contest...\n",
       "126          Sweden  Meaning that Sweden automatically qualified fo...\n",
       "...             ...                                                ...\n",
       "881202       Angola  The Portuguese Empire, then LHT, introduced LH...\n",
       "881204     Portugal  Although Portugal itself switched to RHT in 19...\n",
       "881206       Angola  Other former Portuguese colonies in Africa inc...\n",
       "881209        Nauru  In May 2016, the Parliament of Nauru passed th...\n",
       "881210       Guinea  Júnior started his club career in Bissau with ...\n",
       "\n",
       "[317497 rows x 2 columns]"
      ]
     },
     "execution_count": 34,
     "metadata": {},
     "output_type": "execute_result"
    }
   ],
   "source": [
    "data.columns = ['country', 'text']\n",
    "#remove all entries that have more than one country in them\n",
    "data = data.drop_duplicates(subset=['text'])\n",
    "#keep only one word countries\n",
    "data = data[~data['country'].str.contains(\" \")]\n",
    "data = data.dropna()\n",
    "data = data[~data['text'].str.contains(\"doc id\")]"
   ]
  },
  {
   "cell_type": "code",
   "execution_count": 36,
   "metadata": {},
   "outputs": [],
   "source": [
    "import random\n",
    "#interested_countries = random.sample(set(data['country'].unique()), 20)\n",
    "#saved for reproducibility\n",
    "interested_countries = ['Syria','Serbia','Myanmar','Uzbekistan','Chad','Egypt','Qatar','Madagascar','Angola','Jamaica','Barbados','Guinea','Cambodia','Iceland','Iran','Bahamas','Senegal','Uganda','Poland','India']"
   ]
  },
  {
   "cell_type": "code",
   "execution_count": 37,
   "metadata": {},
   "outputs": [],
   "source": [
    "fine_tuning_data = data[data['country'].isin(interested_countries)]\n",
    "fine_tuning_data = fine_tuning_data.reset_index(drop=True)\n",
    "fine_tuning_data['text'] = fine_tuning_data['text'].apply(lambda x: x + \" \\n\")\n"
   ]
  },
  {
   "cell_type": "code",
   "execution_count": 38,
   "metadata": {},
   "outputs": [],
   "source": [
    "training_data = fine_tuning_data.groupby(\"country\").apply(lambda x: x.sample(n=1000)).reset_index(drop=True)"
   ]
  },
  {
   "cell_type": "code",
   "execution_count": 39,
   "metadata": {},
   "outputs": [],
   "source": [
    "test_data = fine_tuning_data[~fine_tuning_data.index.isin(training_data.index)]"
   ]
  },
  {
   "cell_type": "code",
   "execution_count": 40,
   "metadata": {},
   "outputs": [
    {
     "data": {
      "text/plain": [
       "(41487, 20000, 21487)"
      ]
     },
     "execution_count": 40,
     "metadata": {},
     "output_type": "execute_result"
    }
   ],
   "source": [
    "len(fine_tuning_data), len(training_data), len(test_data)"
   ]
  },
  {
   "cell_type": "code",
   "execution_count": 41,
   "metadata": {},
   "outputs": [],
   "source": [
    "#Unfortunately, the original data for this got overwritten, but this is the code for how it was originally created\n",
    "training_data[['text']].to_csv(\"fine_tuning_training_data.csv\", index=False)\n",
    "test_data[['text']].to_csv(\"fine_tuning_test_data.csv\", index=False)"
   ]
  },
  {
   "cell_type": "code",
   "execution_count": null,
   "metadata": {},
   "outputs": [],
   "source": []
  }
 ],
 "metadata": {
  "kernelspec": {
   "display_name": "Python 3",
   "language": "python",
   "name": "python3"
  },
  "language_info": {
   "codemirror_mode": {
    "name": "ipython",
    "version": 3
   },
   "file_extension": ".py",
   "mimetype": "text/x-python",
   "name": "python",
   "nbconvert_exporter": "python",
   "pygments_lexer": "ipython3",
   "version": "3.8.12"
  }
 },
 "nbformat": 4,
 "nbformat_minor": 2
}
